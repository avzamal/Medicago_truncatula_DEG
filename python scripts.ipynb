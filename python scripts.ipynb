{
 "cells": [
  {
   "cell_type": "code",
   "execution_count": null,
   "id": "d222593b",
   "metadata": {},
   "outputs": [],
   "source": [
    "#script for converting ID list from edgeR to Pantherdb accessible format\n",
    "with open('L_resist_only_neg.txt') as file:\n",
    "    with open('L_resist_only_neg_MTR.txt', \"w\") as output_file:\n",
    "        for line in file:\n",
    "            gene = line.split(' ')[0].strip('\"\\n')\n",
    "            gene = gene[5:-2].strip('.')\n",
    "            #logfc = line.split(' ')[1]\n",
    "            output_file.write('MTR_'+gene+'\\n')"
   ]
  },
  {
   "cell_type": "code",
   "execution_count": null,
   "id": "610576e4",
   "metadata": {},
   "outputs": [],
   "source": [
    "#extracting geneID and GO terms from pantherdb output\n",
    "with open('L_ino_resist_neg_pant.txt') as file:\n",
    "    with open('L_ino_resist_neg_pant_GO.txt', \"w\") as output_file:\n",
    "        file.readline()\n",
    "        for line in file:\n",
    "            line = line.split('\\t')\n",
    "            geneid = line[0].split('|')[1].split('=')[1]\n",
    "            geneid = 'Medtr'+geneid[4:]\n",
    "            for j in range(2,5):\n",
    "                GO_1 = line[j].strip('\\n').split(';')\n",
    "                for i in range(0,len(GO_1)):\n",
    "                    GO = GO_1[i][-11:-1]\n",
    "                    if GO.startswith(\"GO:\"):\n",
    "                        output_file.write(geneid + '\\t' + GO + '\\n')"
   ]
  }
 ],
 "metadata": {
  "kernelspec": {
   "display_name": "Python 3",
   "language": "python",
   "name": "python3"
  },
  "language_info": {
   "codemirror_mode": {
    "name": "ipython",
    "version": 3
   },
   "file_extension": ".py",
   "mimetype": "text/x-python",
   "name": "python",
   "nbconvert_exporter": "python",
   "pygments_lexer": "ipython3",
   "version": "3.8.5"
  }
 },
 "nbformat": 4,
 "nbformat_minor": 5
}
